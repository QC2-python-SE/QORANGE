{
 "cells": [
  {
   "cell_type": "markdown",
   "metadata": {},
   "source": [
    "# Drawing a circuit"
   ]
  },
  {
   "cell_type": "markdown",
   "metadata": {},
   "source": [
    "Any `QuantumCircuit` that uses standard gates has a `draw()` method that visualises the circuit using ASCII characters."
   ]
  },
  {
   "cell_type": "markdown",
   "metadata": {},
   "source": [
    "Here's an example of a small circuit:"
   ]
  },
  {
   "cell_type": "code",
   "execution_count": 4,
   "metadata": {},
   "outputs": [
    {
     "name": "stdout",
     "output_type": "stream",
     "text": [
      "   ┌───┐                 ┌───┐   \n",
      "───│ H │────────○────────│ H │───\n",
      "   └───┘        │        └───┘   \n",
      "                │                \n",
      "────────────────●────────────────\n",
      "                                 \n"
     ]
    }
   ],
   "source": [
    "from qorange.circuits import *\n",
    "from qorange.gates import *\n",
    "\n",
    "circuit = QuantumCircuit()\n",
    "circuit.apply_gate(1, Hadamard())\n",
    "circuit.apply_gate(2, CNOT())\n",
    "circuit.apply_gate(1, Hadamard())\n",
    "circuit.draw()"
   ]
  },
  {
   "cell_type": "markdown",
   "metadata": {},
   "source": [
    "And here's an arbitrary larger circuit that uses all of the standard gates:"
   ]
  },
  {
   "cell_type": "code",
   "execution_count": 2,
   "metadata": {},
   "outputs": [
    {
     "name": "stdout",
     "output_type": "stream",
     "text": [
      "   ┌───┐      ┌───┐                            ┌───┐      ┌───┐      ┌───┐                                               \n",
      "───│ I │──────│ H │────────○───────────────────│ Z │──────│ X │──────│ S │────────●──────────●─────────────────────✕─────\n",
      "   └───┘      └───┘        │                   └───┘      └───┘      └───┘        │          │                     │     \n",
      "   ┌───┐                   │        ┌───┐        │        ┌───┐                   │        ┌───┐      ┌───┐        │     \n",
      "───│ X │───────────────────●────────│ Y │────────●────────│ Z │───────────────────○────────│ Z │──────│ T │────────✕─────\n",
      "   └───┘                            └───┘                 └───┘                            └───┘      └───┘              \n"
     ]
    }
   ],
   "source": [
    "from qorange.circuits import *\n",
    "from qorange.gates import *\n",
    "\n",
    "circuit = QuantumCircuit()\n",
    "circuit.apply_gate(1, Identity())\n",
    "circuit.apply_gate(1, Hadamard())\n",
    "circuit.apply_gate(2, PauliX())\n",
    "circuit.apply_gate(2, CNOT())\n",
    "circuit.apply_gate(2, PauliY())\n",
    "circuit.apply_gate(2, CZ())\n",
    "circuit.apply_gate(1, PauliX())\n",
    "circuit.apply_gate(2, PauliZ())\n",
    "circuit.apply_gate(1, S())\n",
    "circuit.apply_gate(1, CNOT())\n",
    "circuit.apply_gate(1, CZ())\n",
    "circuit.apply_gate(2, T())\n",
    "circuit.apply_gate(1, SWAP())\n",
    "circuit.draw()"
   ]
  }
 ],
 "metadata": {
  "kernelspec": {
   "display_name": "qp",
   "language": "python",
   "name": "python3"
  },
  "language_info": {
   "codemirror_mode": {
    "name": "ipython",
    "version": 3
   },
   "file_extension": ".py",
   "mimetype": "text/x-python",
   "name": "python",
   "nbconvert_exporter": "python",
   "pygments_lexer": "ipython3",
   "version": "3.10.15"
  }
 },
 "nbformat": 4,
 "nbformat_minor": 2
}
