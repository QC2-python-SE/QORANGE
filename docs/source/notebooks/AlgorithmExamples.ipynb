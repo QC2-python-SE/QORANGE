{
 "cells": [
  {
   "cell_type": "code",
   "execution_count": 4,
   "metadata": {},
   "outputs": [],
   "source": [
    "import sys\n",
    "import os\n",
    "sys.path.insert(0, os.path.abspath('../../../../qorange'))"
   ]
  },
  {
   "cell_type": "markdown",
   "metadata": {},
   "source": [
    "# Quantum Algorithm Examples"
   ]
  },
  {
   "cell_type": "markdown",
   "metadata": {},
   "source": [
    "## Entanglement Circuit"
   ]
  },
  {
   "cell_type": "code",
   "execution_count": null,
   "metadata": {},
   "outputs": [
    {
     "name": "stdout",
     "output_type": "stream",
     "text": [
      "   ┌───┐              \n",
      "───│ H │────────●─────\n",
      "   └───┘        │     \n",
      "                │     \n",
      "────────────────○─────\n",
      "                      \n"
     ]
    }
   ],
   "source": [
    "from qorange.circuits import *\n",
    "from qorange.gates import *\n",
    "\n",
    "circuit = QuantumCircuit()\n",
    "\n",
    "H = Hadamard()\n",
    "CNOT = CNOT()\n",
    "\n",
    "circuit.apply_gate(H, 1)\n",
    "circuit.apply_gate(CNOT, (1,2))\n",
    "circuit.draw()"
   ]
  },
  {
   "cell_type": "code",
   "execution_count": 9,
   "metadata": {},
   "outputs": [
    {
     "name": "stdout",
     "output_type": "stream",
     "text": [
      "State Vector:\n",
      "[0.70710678 0.         0.         0.70710678]\n",
      "Density Matrix:\n",
      "[[0.5 0.  0.  0.5]\n",
      " [0.  0.  0.  0. ]\n",
      " [0.  0.  0.  0. ]\n",
      " [0.5 0.  0.  0.5]]\n"
     ]
    }
   ],
   "source": [
    "print(\"State Vector:\")\n",
    "print(circuit.state)\n",
    "print(\"Density Matrix:\")\n",
    "print(circuit.density_matrix)"
   ]
  },
  {
   "cell_type": "code",
   "execution_count": 12,
   "metadata": {},
   "outputs": [
    {
     "name": "stdout",
     "output_type": "stream",
     "text": [
      "Reduced Density Matrix on Qubit 1:\n",
      "[[0.5 0.5]\n",
      " [0.5 0.5]]\n",
      "Reduced Density Matrix on Qubit 2:\n",
      "[[0.5 0.5]\n",
      " [0.5 0.5]]\n"
     ]
    }
   ],
   "source": [
    "print(\"Reduced Density Matrix on Qubit 1:\")\n",
    "print(circuit.partial_trace(keep=1))\n",
    "\n",
    "print(\"Reduced Density Matrix on Qubit 2:\")\n",
    "print(circuit.partial_trace(keep=2))"
   ]
  },
  {
   "cell_type": "code",
   "execution_count": 16,
   "metadata": {},
   "outputs": [
    {
     "name": "stdout",
     "output_type": "stream",
     "text": [
      "Measure Qubit 1:\n",
      "Probability of being in state |0>: 0.5\n",
      "Probability of being in state |1>: 0.5\n",
      "Measure Qubit 2:\n",
      "Probability of being in state |0>: 0.5\n",
      "Probability of being in state |1>: 0.5\n"
     ]
    }
   ],
   "source": [
    "print(\"Measure Qubit 1:\")\n",
    "m1 = circuit.measure_qubit_computational(1)\n",
    "print(f\"Probability of being in state |0>: {m1[0]}\")\n",
    "print(f\"Probability of being in state |1>: {m1[1]}\")\n",
    "\n",
    "print(\"Measure Qubit 2:\")\n",
    "m2 = circuit.measure_qubit_computational(2)\n",
    "print(f\"Probability of being in state |0>: {m2[0]}\")\n",
    "print(f\"Probability of being in state |1>: {m2[1]}\")"
   ]
  },
  {
   "cell_type": "markdown",
   "metadata": {},
   "source": [
    "## 2-Qubit Quantum Fourier Transform"
   ]
  },
  {
   "cell_type": "markdown",
   "metadata": {},
   "source": [
    "## Hadamard Test"
   ]
  },
  {
   "cell_type": "code",
   "execution_count": null,
   "metadata": {},
   "outputs": [],
   "source": [
    "from qorange.circuits import *\n",
    "from qorange.gates import *\n",
    "\n",
    "circuit = QuantumCircuit()\n",
    "\n",
    "H = Hadamard()\n",
    "\n",
    "P = PhaseGate(np.pi/2)\n",
    "\n",
    "CP = ArbControlledGate(P)\n",
    "\n",
    "circuit.apply_gate(P, 1)\n",
    "circuit\n"
   ]
  },
  {
   "cell_type": "markdown",
   "metadata": {},
   "source": [
    "## Deutsch Josza"
   ]
  },
  {
   "cell_type": "markdown",
   "metadata": {},
   "source": []
  }
 ],
 "metadata": {
  "kernelspec": {
   "display_name": "qp",
   "language": "python",
   "name": "python3"
  },
  "language_info": {
   "codemirror_mode": {
    "name": "ipython",
    "version": 3
   },
   "file_extension": ".py",
   "mimetype": "text/x-python",
   "name": "python",
   "nbconvert_exporter": "python",
   "pygments_lexer": "ipython3",
   "version": "3.10.15"
  }
 },
 "nbformat": 4,
 "nbformat_minor": 2
}
