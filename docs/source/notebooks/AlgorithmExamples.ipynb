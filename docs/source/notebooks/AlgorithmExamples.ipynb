{
 "cells": [
  {
   "cell_type": "code",
   "execution_count": 1,
   "metadata": {},
   "outputs": [],
   "source": [
    "import sys\n",
    "import os\n",
    "sys.path.insert(0, os.path.abspath('../../../../qorange'))"
   ]
  },
  {
   "cell_type": "markdown",
   "metadata": {},
   "source": [
    "# Quantum Algorithm Examples"
   ]
  },
  {
   "cell_type": "markdown",
   "metadata": {},
   "source": [
    "## Entanglement Circuit"
   ]
  },
  {
   "cell_type": "code",
   "execution_count": 48,
   "metadata": {},
   "outputs": [
    {
     "name": "stdout",
     "output_type": "stream",
     "text": [
      "   ┌───┐              \n",
      "───│ H │────────●─────\n",
      "   └───┘        │     \n",
      "                │     \n",
      "────────────────○─────\n",
      "                      \n"
     ]
    }
   ],
   "source": [
    "from qorange.circuits import *\n",
    "from qorange.gates import *\n",
    "\n",
    "circuit = QuantumCircuit()\n",
    "\n",
    "H = Hadamard()\n",
    "CNOT = CNOT()\n",
    "\n",
    "circuit.apply_gate(H, 1)\n",
    "circuit.apply_gate(CNOT, (1,2))\n",
    "circuit.draw()"
   ]
  },
  {
   "cell_type": "code",
   "execution_count": 3,
   "metadata": {},
   "outputs": [
    {
     "name": "stdout",
     "output_type": "stream",
     "text": [
      "State Vector:\n",
      "[0.70710678 0.         0.         0.70710678]\n",
      "Density Matrix:\n",
      "[[0.5 0.  0.  0.5]\n",
      " [0.  0.  0.  0. ]\n",
      " [0.  0.  0.  0. ]\n",
      " [0.5 0.  0.  0.5]]\n"
     ]
    }
   ],
   "source": [
    "print(\"State Vector:\")\n",
    "print(circuit.state)\n",
    "print(\"Density Matrix:\")\n",
    "print(circuit.density_matrix)"
   ]
  },
  {
   "cell_type": "code",
   "execution_count": 4,
   "metadata": {},
   "outputs": [
    {
     "name": "stdout",
     "output_type": "stream",
     "text": [
      "Reduced Density Matrix on Qubit 1:\n",
      "[[0.5 0.5]\n",
      " [0.5 0.5]]\n",
      "Reduced Density Matrix on Qubit 2:\n",
      "[[0.5 0.5]\n",
      " [0.5 0.5]]\n"
     ]
    }
   ],
   "source": [
    "print(\"Reduced Density Matrix on Qubit 1:\")\n",
    "print(circuit.partial_trace(keep=1))\n",
    "\n",
    "print(\"Reduced Density Matrix on Qubit 2:\")\n",
    "print(circuit.partial_trace(keep=2))"
   ]
  },
  {
   "cell_type": "code",
   "execution_count": 5,
   "metadata": {},
   "outputs": [
    {
     "name": "stdout",
     "output_type": "stream",
     "text": [
      "Measure Qubit 1:\n",
      "Probability of being in state |0>: 0.5\n",
      "Probability of being in state |1>: 0.5\n",
      "Measure Qubit 2:\n",
      "Probability of being in state |0>: 0.5\n",
      "Probability of being in state |1>: 0.5\n"
     ]
    }
   ],
   "source": [
    "print(\"Measure Qubit 1:\")\n",
    "m1 = circuit.measure_qubit_computational(1)\n",
    "print(f\"Probability of being in state |0>: {m1[0]}\")\n",
    "print(f\"Probability of being in state |1>: {m1[1]}\")\n",
    "\n",
    "print(\"Measure Qubit 2:\")\n",
    "m2 = circuit.measure_qubit_computational(2)\n",
    "print(f\"Probability of being in state |0>: {m2[0]}\")\n",
    "print(f\"Probability of being in state |1>: {m2[1]}\")"
   ]
  },
  {
   "cell_type": "markdown",
   "metadata": {},
   "source": [
    "## Hadamard Test"
   ]
  },
  {
   "cell_type": "markdown",
   "metadata": {},
   "source": [
    "## 2-Qubit Quantum Fourier Transform"
   ]
  },
  {
   "cell_type": "code",
   "execution_count": 19,
   "metadata": {},
   "outputs": [
    {
     "name": "stdout",
     "output_type": "stream",
     "text": [
      "[0.5+0.j 0.5+0.j 0.5+0.j 0.5+0.j]\n",
      "[ 0.5+0.j   0. +0.5j -0.5+0.j   0. -0.5j]\n",
      "[ 0.5+0.j -0.5+0.j  0.5+0.j -0.5+0.j]\n",
      "[ 0.5+0.j   0. -0.5j -0.5+0.j   0. +0.5j]\n"
     ]
    }
   ],
   "source": [
    "import numpy as np\n",
    "from qorange.circuits import *\n",
    "from qorange.gates import *\n",
    "\n",
    "\n",
    "def clean_complex_array(arr, tolerance=1e-10):  # THIS IS A HELPER FUNCTION TO CLEAN THE OUTPUT OF FLOATING POINT NOISE *(DOES NOT AFFECT THE CIRCUIT, JUST MAKES PRINT OUT NICER)*\n",
    "    def clean_complex_number(c):\n",
    "        real = c.real if abs(c.real) > tolerance else 0\n",
    "        imag = c.imag if abs(c.imag) > tolerance else 0\n",
    "        return complex(real, imag)\n",
    "\n",
    "    return np.array([clean_complex_number(c) for c in arr])\n",
    "\n",
    "# Create a quantum circuit for each possible state of two qubits\n",
    "circuit00 = QuantumCircuit() # |00>\n",
    "circuit01 = QuantumCircuit() # |01>\n",
    "circuit10 = QuantumCircuit() # |10>\n",
    "circuit11 = QuantumCircuit() # |11>\n",
    "\n",
    "# define the gates we use in the circuits\n",
    "x = PauliX()\n",
    "h = Hadamard()\n",
    "cp = CPhase(np.pi/2)\n",
    "swap = SWAP()\n",
    "\n",
    "# when the input is |00> = [1, 0, 0, 0] (in computational basis)\n",
    "circuit00.apply_gate(h, 1)\n",
    "circuit00.apply_gate(cp, (1,2))\n",
    "circuit00.apply_gate(h, 2)\n",
    "circuit00.apply_gate(swap)\n",
    "print(clean_complex_array(circuit00.state)) \n",
    "\n",
    "\n",
    "#when the input is |01> = [0, 1, 0, 0] (in computational basis)\n",
    "circuit01.apply_gate(x, 2)\n",
    "circuit01.apply_gate(h, 1)\n",
    "circuit01.apply_gate(cp, (1,2))\n",
    "circuit01.apply_gate(h, 2)\n",
    "circuit01.apply_gate(swap)\n",
    "print(clean_complex_array(circuit01.state))\n",
    "\n",
    "\n",
    "#when the input is |10> = [0, 0, 1, 0] (in computational basis)\n",
    "circuit10.apply_gate(x, 1)\n",
    "circuit10.apply_gate(h, 1)\n",
    "circuit10.apply_gate(cp, (1,2))\n",
    "circuit10.apply_gate(h, 2)\n",
    "circuit10.apply_gate(swap)\n",
    "print(clean_complex_array(circuit10.state))\n",
    "\n",
    "#when the input is |11> = [0, 0, 0, 1] (in computational basis)\n",
    "circuit11.apply_gate(x, 1)\n",
    "circuit11.apply_gate(x, 2)\n",
    "circuit11.apply_gate(h, 1)\n",
    "circuit11.apply_gate(cp, (1,2))\n",
    "circuit11.apply_gate(h, 2)\n",
    "circuit11.apply_gate(swap)\n",
    "print(clean_complex_array(circuit11.state))\n",
    "\n"
   ]
  },
  {
   "cell_type": "markdown",
   "metadata": {},
   "source": [
    "## Deutsch Josza"
   ]
  },
  {
   "cell_type": "code",
   "execution_count": 2,
   "metadata": {},
   "outputs": [],
   "source": [
    "from qorange.circuits import *\n",
    "from qorange.gates import *\n",
    "import numpy as np\n",
    "\n",
    "\n",
    "\n",
    "H = Hadamard()\n",
    "cnot = CNOT()\n",
    "X = PauliX()\n",
    "swap = SWAP()\n",
    "\n",
    "#Oracles\n",
    "oracle_matrix_constant_zero = np.array([\n",
    "    [1, 0, 0, 0],\n",
    "    [0, 1, 0, 0],\n",
    "    [0, 0, 1, 0],\n",
    "    [0, 0, 0, 1]\n",
    "])\n",
    "\n",
    "oracle_matrix_balanced = np.array([\n",
    "    [1, 0, 0, 0],\n",
    "    [0, -1, 0, 0],\n",
    "    [0, 0, -1, 0],\n",
    "    [0, 0, 0, 1]\n",
    "])\n",
    "\n",
    "U_const = ArbTwoQubitGate(oracle_matrix_constant_zero)\n",
    "U_balanced = ArbTwoQubitGate(oracle_matrix_balanced)\n"
   ]
  },
  {
   "cell_type": "code",
   "execution_count": 3,
   "metadata": {},
   "outputs": [],
   "source": [
    "circuit_const = QuantumCircuit()\n",
    "circuit_const.apply_gate(X, 2)\n",
    "\n",
    "circuit_const.apply_gate(H, 1)\n",
    "\n",
    "circuit_const.apply_gate(H, 2)\n",
    "\n",
    "circuit_const.apply_gate(U_const)\n",
    "circuit_const.apply_gate(H, 1)\n",
    "\n",
    "\n",
    "circuit_balanced = QuantumCircuit()\n",
    "circuit_balanced.apply_gate(X, 2)\n",
    "circuit_balanced.apply_gate(H, 1)\n",
    "circuit_balanced.apply_gate(H, 2)\n",
    "circuit_balanced.apply_gate(U_balanced)\n",
    "circuit_balanced.apply_gate(H, 1)"
   ]
  },
  {
   "cell_type": "code",
   "execution_count": 5,
   "metadata": {},
   "outputs": [
    {
     "data": {
      "text/plain": [
       "array([1., 0.])"
      ]
     },
     "execution_count": 5,
     "metadata": {},
     "output_type": "execute_result"
    }
   ],
   "source": [
    "\n",
    "circuit_const.measure_qubit_computational(1)"
   ]
  },
  {
   "cell_type": "code",
   "execution_count": 6,
   "metadata": {},
   "outputs": [
    {
     "data": {
      "text/plain": [
       "array([0., 1.])"
      ]
     },
     "execution_count": 6,
     "metadata": {},
     "output_type": "execute_result"
    }
   ],
   "source": [
    "circuit_balanced.measure_qubit_computational(1)"
   ]
  },
  {
   "cell_type": "markdown",
   "metadata": {},
   "source": []
  },
  {
   "cell_type": "markdown",
   "metadata": {},
   "source": []
  }
 ],
 "metadata": {
  "kernelspec": {
   "display_name": "Python 3",
   "language": "python",
   "name": "python3"
  },
  "language_info": {
   "codemirror_mode": {
    "name": "ipython",
    "version": 3
   },
   "file_extension": ".py",
   "mimetype": "text/x-python",
   "name": "python",
   "nbconvert_exporter": "python",
   "pygments_lexer": "ipython3",
   "version": "3.11.9"
  }
 },
 "nbformat": 4,
 "nbformat_minor": 2
}
