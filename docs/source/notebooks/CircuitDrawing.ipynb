{
 "cells": [
  {
   "cell_type": "markdown",
   "metadata": {},
   "source": [
    "# Drawing a circuit"
   ]
  },
  {
   "cell_type": "markdown",
   "metadata": {},
   "source": [
    "Any `QuantumCircuit` that uses standard gates has a `draw()` method that visualises the circuit using ASCII characters."
   ]
  },
  {
   "cell_type": "markdown",
   "metadata": {},
   "source": [
    "Here's an example of a small circuit:"
   ]
  },
  {
   "cell_type": "code",
   "execution_count": 1,
   "metadata": {},
   "outputs": [
    {
     "name": "stdout",
     "output_type": "stream",
     "text": [
      "   ┌───┐                 ┌───┐   \n",
      "───│ H │────────●────────│ H │───\n",
      "   └───┘        │        └───┘   \n",
      "                │                \n",
      "────────────────○────────────────\n",
      "                                 \n"
     ]
    }
   ],
   "source": [
    "from qorange.circuits import *\n",
    "from qorange.gates import *\n",
    "\n",
    "circuit = QuantumCircuit()\n",
    "circuit.apply_gate(Hadamard(), 1)\n",
    "circuit.apply_gate(CNOT(), (1, 2))\n",
    "circuit.apply_gate(Hadamard(), 1)\n",
    "circuit.draw()"
   ]
  },
  {
   "cell_type": "markdown",
   "metadata": {},
   "source": [
    "And here's an arbitrary larger circuit that uses all of the standard gates:"
   ]
  },
  {
   "cell_type": "code",
   "execution_count": 3,
   "metadata": {},
   "outputs": [
    {
     "name": "stdout",
     "output_type": "stream",
     "text": [
      "   ┌───┐      ┌───┐                            ┌───┐      ┌───┐      ┌───┐                                               \n",
      "───│ I │──────│ H │────────○───────────────────│ Z │──────│ X │──────│ S │────────●──────────●─────────────────────✕─────\n",
      "   └───┘      └───┘        │                   └───┘      └───┘      └───┘        │          │                     │     \n",
      "   ┌───┐                   │        ┌───┐        │        ┌───┐                   │        ┌───┐      ┌───┐        │     \n",
      "───│ X │───────────────────●────────│ Y │────────●────────│ Z │───────────────────○────────│ Z │──────│ T │────────✕─────\n",
      "   └───┘                            └───┘                 └───┘                            └───┘      └───┘              \n"
     ]
    }
   ],
   "source": [
    "from qorange.circuits import *\n",
    "from qorange.gates import *\n",
    "\n",
    "circuit = QuantumCircuit()\n",
    "circuit.apply_gate(Identity(), 1)\n",
    "circuit.apply_gate(Hadamard(), 1)\n",
    "circuit.apply_gate(PauliX(), 2)\n",
    "circuit.apply_gate(CNOT(), (2, 1))\n",
    "circuit.apply_gate(PauliY(), 2)\n",
    "circuit.apply_gate(CZ(), (2, 1))\n",
    "circuit.apply_gate(PauliX(), 1)\n",
    "circuit.apply_gate(PauliZ(), 2)\n",
    "circuit.apply_gate(S(), 1)\n",
    "circuit.apply_gate(CNOT(), (1, 2))\n",
    "circuit.apply_gate(CZ(), (1, 2))\n",
    "circuit.apply_gate(T(), 2)\n",
    "circuit.apply_gate(SWAP())\n",
    "circuit.draw()"
   ]
  },
  {
   "cell_type": "markdown",
   "metadata": {},
   "source": [
    "Measurements are represented by an \"M\" gate:"
   ]
  },
  {
   "cell_type": "code",
   "execution_count": null,
   "metadata": {},
   "outputs": [
    {
     "name": "stdout",
     "output_type": "stream",
     "text": [
      "   ┌───┐                 ┌───┐      ┌───┐   \n",
      "───│ H │────────●────────│ H │──────│ M │───\n",
      "   └───┘        │        └───┘      └───┘   \n",
      "                │        ┌───┐      ┌───┐   \n",
      "────────────────○────────│ X │──────│ M │───\n",
      "                         └───┘      └───┘   \n"
     ]
    }
   ],
   "source": [
    "from qorange.circuits import *\n",
    "from qorange.gates import *\n",
    "\n",
    "circuit = QuantumCircuit()\n",
    "circuit.apply_gate(Hadamard(), 1)\n",
    "circuit.apply_gate(CNOT(), (1, 2))\n",
    "circuit.apply_gate(Hadamard(), 1)\n",
    "circuit.apply_gate(PauliX(), 2)\n",
    "circuit.measure_qubit_computational(1)\n",
    "circuit.measure_qubit_computational(2)\n",
    "circuit.draw()"
   ]
  }
 ],
 "metadata": {
  "kernelspec": {
   "display_name": "qp",
   "language": "python",
   "name": "python3"
  },
  "language_info": {
   "codemirror_mode": {
    "name": "ipython",
    "version": 3
   },
   "file_extension": ".py",
   "mimetype": "text/x-python",
   "name": "python",
   "nbconvert_exporter": "python",
   "pygments_lexer": "ipython3",
   "version": "3.10.15"
  }
 },
 "nbformat": 4,
 "nbformat_minor": 2
}
